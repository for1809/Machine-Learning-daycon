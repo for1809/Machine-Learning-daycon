{
 "cells": [
  {
   "cell_type": "code",
   "id": "initial_id",
   "metadata": {
    "collapsed": true,
    "ExecuteTime": {
     "end_time": "2025-01-20T06:15:49.864810Z",
     "start_time": "2025-01-20T06:15:49.857764Z"
    }
   },
   "source": [
    "from os import write\n",
    "\n",
    "# 범주형 변수를 컴퓨터가 이해할 수 있도록 숫자를 매핑시켜야함.\n",
    "import pandas as pd\n",
    "\n",
    "# 데이터프레임 생성\n",
    "data = {\n",
    "    \"Brand\": [\"Ford\", \"Honda\", \"Ford\", \"Toyota\", \"Toyota\", \"Toyota\", \"Honda\", \"Toyota\", \"Toyota\", \"Ford\"],\n",
    "    \"Model\": [\"Sedan\", \"Sedan\", \"SUV\", \"Sedan\", \"Sedan\", \"Sedan\", \"Truck\", \"SUV\", \"Sedan\", \"Sedan\"],\n",
    "    \"정비 이력등급\": [\"없음\", \"보통\", \"없음\", \"정기적\", \"없음\", \"정기적\", \"없음\", \"보통\", \"없음\", \"정기적\"],\n",
    "    \"주행거리\": [44676.6, 51638.2, 57685.7, 45822.0, 38865.6, 56178.5, 58437.6, 39963.5, 61611.4, 73547.4],\n",
    "    \"중고차가격\": [20052.0, 16511.6, 13936.9, 25494.9, 21297.9, 22708.3, 15314.2, 23178.7, 13233.2, 11806.2]\n",
    "}\n",
    "\n",
    "df = pd.DataFrame(data)\n",
    "\n",
    "# CSV로 저장\n",
    "df.to_csv(\"used_car_data.csv\", index=False, encoding=\"utf-8-sig\")\n",
    "print(\"CSV 파일이 저장되었습니다: used_car_data.csv\")\n"
   ],
   "outputs": [
    {
     "name": "stdout",
     "output_type": "stream",
     "text": [
      "CSV 파일이 저장되었습니다: used_car_data.csv\n"
     ]
    }
   ],
   "execution_count": 4
  },
  {
   "metadata": {
    "ExecuteTime": {
     "end_time": "2025-01-20T06:17:14.807906Z",
     "start_time": "2025-01-20T06:17:14.800819Z"
    }
   },
   "cell_type": "code",
   "source": [
    "import pandas as pd\n",
    "\n",
    "# 데이터프레임 생성\n",
    "test_data = {\n",
    "    \"Brand\": [\"Toyota\", \"Ford\", \"Honda\", \"Chevrolet\", \"Toyota\"],\n",
    "    \"Model\": [\"SUV\", \"Truck\", \"Sedan\", \"Sedan\", \"Truck\"],\n",
    "    \"정비 이력등급\": [\"보통\", \"없음\", \"정기적\", \"정기적\", \"없음\"],\n",
    "    \"주행거리\": [45000, 30000, 40000, 50000, 55000]\n",
    "}\n",
    "\n",
    "df_test = pd.DataFrame(test_data)\n",
    "\n",
    "# CSV로 저장\n",
    "df_test.to_csv(\"test_dataset.csv\", index=False, encoding=\"utf-8-sig\")\n",
    "print(\"CSV 파일이 저장되었습니다: test_dataset.csv\")\n"
   ],
   "id": "3b64aed26eedbc30",
   "outputs": [
    {
     "name": "stdout",
     "output_type": "stream",
     "text": [
      "CSV 파일이 저장되었습니다: test_dataset.csv\n"
     ]
    }
   ],
   "execution_count": 6
  },
  {
   "metadata": {
    "ExecuteTime": {
     "end_time": "2025-01-20T06:31:34.179024Z",
     "start_time": "2025-01-20T06:31:34.163243Z"
    }
   },
   "cell_type": "code",
   "source": [
    "from sklearn.preprocessing import LabelEncoder\n",
    "import numpy as np\n",
    "import pandas as pd\n",
    "train_used_car = pd.read_csv(\"used_car_data.csv\")\n",
    "test_used_car = pd.read_csv(\"test_dataset.csv\")\n",
    "\n",
    "categorical_var = ['Brand',  'Model', '정비 이력등급']\n",
    "\n",
    "label_encoders = {}\n",
    "\n",
    "for col in categorical_var:\n",
    "    le_train = LabelEncoder()\n",
    "\n",
    "    train_used_car[col] = le_train.fit_transform(train_used_car[col]) # fit(범주 학습)과 transform(정수 매핑)을 함께 처리\n",
    "    label_encoders[col] = le_train\n",
    "\n",
    "display(train_used_car.head())\n",
    "\n"
   ],
   "id": "756e7facc56a8a4c",
   "outputs": [
    {
     "data": {
      "text/plain": [
       "   Brand  Model  정비 이력등급     주행거리    중고차가격\n",
       "0      0      1        1  44676.6  20052.0\n",
       "1      1      1        0  51638.2  16511.6\n",
       "2      0      0        1  57685.7  13936.9\n",
       "3      2      1        2  45822.0  25494.9\n",
       "4      2      1        1  38865.6  21297.9"
      ],
      "text/html": [
       "<div>\n",
       "<style scoped>\n",
       "    .dataframe tbody tr th:only-of-type {\n",
       "        vertical-align: middle;\n",
       "    }\n",
       "\n",
       "    .dataframe tbody tr th {\n",
       "        vertical-align: top;\n",
       "    }\n",
       "\n",
       "    .dataframe thead th {\n",
       "        text-align: right;\n",
       "    }\n",
       "</style>\n",
       "<table border=\"1\" class=\"dataframe\">\n",
       "  <thead>\n",
       "    <tr style=\"text-align: right;\">\n",
       "      <th></th>\n",
       "      <th>Brand</th>\n",
       "      <th>Model</th>\n",
       "      <th>정비 이력등급</th>\n",
       "      <th>주행거리</th>\n",
       "      <th>중고차가격</th>\n",
       "    </tr>\n",
       "  </thead>\n",
       "  <tbody>\n",
       "    <tr>\n",
       "      <th>0</th>\n",
       "      <td>0</td>\n",
       "      <td>1</td>\n",
       "      <td>1</td>\n",
       "      <td>44676.6</td>\n",
       "      <td>20052.0</td>\n",
       "    </tr>\n",
       "    <tr>\n",
       "      <th>1</th>\n",
       "      <td>1</td>\n",
       "      <td>1</td>\n",
       "      <td>0</td>\n",
       "      <td>51638.2</td>\n",
       "      <td>16511.6</td>\n",
       "    </tr>\n",
       "    <tr>\n",
       "      <th>2</th>\n",
       "      <td>0</td>\n",
       "      <td>0</td>\n",
       "      <td>1</td>\n",
       "      <td>57685.7</td>\n",
       "      <td>13936.9</td>\n",
       "    </tr>\n",
       "    <tr>\n",
       "      <th>3</th>\n",
       "      <td>2</td>\n",
       "      <td>1</td>\n",
       "      <td>2</td>\n",
       "      <td>45822.0</td>\n",
       "      <td>25494.9</td>\n",
       "    </tr>\n",
       "    <tr>\n",
       "      <th>4</th>\n",
       "      <td>2</td>\n",
       "      <td>1</td>\n",
       "      <td>1</td>\n",
       "      <td>38865.6</td>\n",
       "      <td>21297.9</td>\n",
       "    </tr>\n",
       "  </tbody>\n",
       "</table>\n",
       "</div>"
      ]
     },
     "metadata": {},
     "output_type": "display_data"
    },
    {
     "data": {
      "text/plain": [
       "array(['Ford', 'Honda', 'Toyota'], dtype=object)"
      ]
     },
     "metadata": {},
     "output_type": "display_data"
    }
   ],
   "execution_count": 18
  },
  {
   "metadata": {
    "ExecuteTime": {
     "end_time": "2025-01-20T06:32:55.451486Z",
     "start_time": "2025-01-20T06:32:55.431098Z"
    }
   },
   "cell_type": "code",
   "source": [
    "# 인코딩을 어떻게 수행했는지 확인\n",
    "for col in categorical_var:\n",
    "    display(f\"{col} :\")\n",
    "    for i in range(len(label_encoders[col].classes_)):\n",
    "        display(f\"{label_encoders[col].classes_[i]} ({i})\")"
   ],
   "id": "dad9c74441ee2ca8",
   "outputs": [
    {
     "data": {
      "text/plain": [
       "'Brand :'"
      ]
     },
     "metadata": {},
     "output_type": "display_data"
    },
    {
     "data": {
      "text/plain": [
       "'Ford (0)'"
      ]
     },
     "metadata": {},
     "output_type": "display_data"
    },
    {
     "data": {
      "text/plain": [
       "'Honda (1)'"
      ]
     },
     "metadata": {},
     "output_type": "display_data"
    },
    {
     "data": {
      "text/plain": [
       "'Toyota (2)'"
      ]
     },
     "metadata": {},
     "output_type": "display_data"
    },
    {
     "data": {
      "text/plain": [
       "'Model :'"
      ]
     },
     "metadata": {},
     "output_type": "display_data"
    },
    {
     "data": {
      "text/plain": [
       "'SUV (0)'"
      ]
     },
     "metadata": {},
     "output_type": "display_data"
    },
    {
     "data": {
      "text/plain": [
       "'Sedan (1)'"
      ]
     },
     "metadata": {},
     "output_type": "display_data"
    },
    {
     "data": {
      "text/plain": [
       "'Truck (2)'"
      ]
     },
     "metadata": {},
     "output_type": "display_data"
    },
    {
     "data": {
      "text/plain": [
       "'정비 이력등급 :'"
      ]
     },
     "metadata": {},
     "output_type": "display_data"
    },
    {
     "data": {
      "text/plain": [
       "'보통 (0)'"
      ]
     },
     "metadata": {},
     "output_type": "display_data"
    },
    {
     "data": {
      "text/plain": [
       "'없음 (1)'"
      ]
     },
     "metadata": {},
     "output_type": "display_data"
    },
    {
     "data": {
      "text/plain": [
       "'정기적 (2)'"
      ]
     },
     "metadata": {},
     "output_type": "display_data"
    }
   ],
   "execution_count": 19
  },
  {
   "metadata": {
    "ExecuteTime": {
     "end_time": "2025-01-20T06:44:40.114145Z",
     "start_time": "2025-01-20T06:44:40.100447Z"
    }
   },
   "cell_type": "code",
   "source": [
    "# 테스트 데이터에 적용하기\n",
    "test_ex1 = test_used_car.copy()\n",
    "\n",
    "for col in categorical_var:\n",
    "\n",
    "    try :\n",
    "        test_ex1[col] = label_encoders[col].transform(test_ex1[col]) # 기존에 학습된 규칙으로 정수 인코딩\n",
    "    except Exception as e:\n",
    "         print(f\"label_encoders {col} Error: {e}\")\n",
    "\n",
    "\n",
    "display(test_ex1.head())\n",
    "display(test_ex1[categorical_var].dtypes)"
   ],
   "id": "bcb302c629e4ed15",
   "outputs": [
    {
     "name": "stdout",
     "output_type": "stream",
     "text": [
      "label_encoders Brand Error: y contains previously unseen labels: 'Chevrolet'\n"
     ]
    },
    {
     "data": {
      "text/plain": [
       "       Brand  Model  정비 이력등급   주행거리\n",
       "0     Toyota      0        0  45000\n",
       "1       Ford      2        1  30000\n",
       "2      Honda      1        2  40000\n",
       "3  Chevrolet      1        2  50000\n",
       "4     Toyota      2        1  55000"
      ],
      "text/html": [
       "<div>\n",
       "<style scoped>\n",
       "    .dataframe tbody tr th:only-of-type {\n",
       "        vertical-align: middle;\n",
       "    }\n",
       "\n",
       "    .dataframe tbody tr th {\n",
       "        vertical-align: top;\n",
       "    }\n",
       "\n",
       "    .dataframe thead th {\n",
       "        text-align: right;\n",
       "    }\n",
       "</style>\n",
       "<table border=\"1\" class=\"dataframe\">\n",
       "  <thead>\n",
       "    <tr style=\"text-align: right;\">\n",
       "      <th></th>\n",
       "      <th>Brand</th>\n",
       "      <th>Model</th>\n",
       "      <th>정비 이력등급</th>\n",
       "      <th>주행거리</th>\n",
       "    </tr>\n",
       "  </thead>\n",
       "  <tbody>\n",
       "    <tr>\n",
       "      <th>0</th>\n",
       "      <td>Toyota</td>\n",
       "      <td>0</td>\n",
       "      <td>0</td>\n",
       "      <td>45000</td>\n",
       "    </tr>\n",
       "    <tr>\n",
       "      <th>1</th>\n",
       "      <td>Ford</td>\n",
       "      <td>2</td>\n",
       "      <td>1</td>\n",
       "      <td>30000</td>\n",
       "    </tr>\n",
       "    <tr>\n",
       "      <th>2</th>\n",
       "      <td>Honda</td>\n",
       "      <td>1</td>\n",
       "      <td>2</td>\n",
       "      <td>40000</td>\n",
       "    </tr>\n",
       "    <tr>\n",
       "      <th>3</th>\n",
       "      <td>Chevrolet</td>\n",
       "      <td>1</td>\n",
       "      <td>2</td>\n",
       "      <td>50000</td>\n",
       "    </tr>\n",
       "    <tr>\n",
       "      <th>4</th>\n",
       "      <td>Toyota</td>\n",
       "      <td>2</td>\n",
       "      <td>1</td>\n",
       "      <td>55000</td>\n",
       "    </tr>\n",
       "  </tbody>\n",
       "</table>\n",
       "</div>"
      ]
     },
     "metadata": {},
     "output_type": "display_data"
    },
    {
     "data": {
      "text/plain": [
       "Brand      object\n",
       "Model       int64\n",
       "정비 이력등급     int64\n",
       "dtype: object"
      ]
     },
     "metadata": {},
     "output_type": "display_data"
    }
   ],
   "execution_count": 20
  },
  {
   "metadata": {
    "ExecuteTime": {
     "end_time": "2025-01-20T07:02:15.290973Z",
     "start_time": "2025-01-20T07:02:15.283166Z"
    }
   },
   "cell_type": "code",
   "source": [
    "# 학습 데이터에 없는 범주 처리\n",
    "test_ex2 = test_used_car.copy()\n",
    "\n",
    "# train_used_car 데이터셋의 라벨 인코더 클래스에 '기타' 범주를 다시 추가\n",
    "for le in label_encoders.values():\n",
    "    le.classes_ = np.append(le.classes_, 'Other')\n",
    "\n",
    "# 새로운 범주값을 '기타'로 매핑하고 라벨 인코더를 적용하는 과정을 하나의 루프로 합치기\n",
    "for col in categorical_var:\n",
    "    # 새로운 값들을 '기타'로 매핑\n",
    "    test_ex2[col] = test_ex2[col].apply(lambda x: x if x in label_encoders[col].classes_ else 'Other')\n",
    "    # 라벨 인코더 적용\n",
    "    test_ex2[col] = label_encoders[col].transform(test_ex2[col])\n",
    "\n",
    "# 변환된 test_used_car 데이터셋 보여주기\n",
    "display(test_ex2.head())\n",
    "\n",
    "'''\n",
    "단순히 Label Encoding을 해버리면 명목형 자료에서는 의도하지 않는 중요도가 생길 가능성이 있고 순서형 자료에서는 순서를 제대로 나타내지 못하는 부작용이 생길 가능성이 있다.'''"
   ],
   "id": "6525d6b65c7e24a3",
   "outputs": [
    {
     "data": {
      "text/plain": [
       "   Brand  Model  정비 이력등급   주행거리\n",
       "0      2      0        0  45000\n",
       "1      0      2        1  30000\n",
       "2      1      1        2  40000\n",
       "3      5      1        2  50000\n",
       "4      2      2        1  55000"
      ],
      "text/html": [
       "<div>\n",
       "<style scoped>\n",
       "    .dataframe tbody tr th:only-of-type {\n",
       "        vertical-align: middle;\n",
       "    }\n",
       "\n",
       "    .dataframe tbody tr th {\n",
       "        vertical-align: top;\n",
       "    }\n",
       "\n",
       "    .dataframe thead th {\n",
       "        text-align: right;\n",
       "    }\n",
       "</style>\n",
       "<table border=\"1\" class=\"dataframe\">\n",
       "  <thead>\n",
       "    <tr style=\"text-align: right;\">\n",
       "      <th></th>\n",
       "      <th>Brand</th>\n",
       "      <th>Model</th>\n",
       "      <th>정비 이력등급</th>\n",
       "      <th>주행거리</th>\n",
       "    </tr>\n",
       "  </thead>\n",
       "  <tbody>\n",
       "    <tr>\n",
       "      <th>0</th>\n",
       "      <td>2</td>\n",
       "      <td>0</td>\n",
       "      <td>0</td>\n",
       "      <td>45000</td>\n",
       "    </tr>\n",
       "    <tr>\n",
       "      <th>1</th>\n",
       "      <td>0</td>\n",
       "      <td>2</td>\n",
       "      <td>1</td>\n",
       "      <td>30000</td>\n",
       "    </tr>\n",
       "    <tr>\n",
       "      <th>2</th>\n",
       "      <td>1</td>\n",
       "      <td>1</td>\n",
       "      <td>2</td>\n",
       "      <td>40000</td>\n",
       "    </tr>\n",
       "    <tr>\n",
       "      <th>3</th>\n",
       "      <td>5</td>\n",
       "      <td>1</td>\n",
       "      <td>2</td>\n",
       "      <td>50000</td>\n",
       "    </tr>\n",
       "    <tr>\n",
       "      <th>4</th>\n",
       "      <td>2</td>\n",
       "      <td>2</td>\n",
       "      <td>1</td>\n",
       "      <td>55000</td>\n",
       "    </tr>\n",
       "  </tbody>\n",
       "</table>\n",
       "</div>"
      ]
     },
     "metadata": {},
     "output_type": "display_data"
    },
    {
     "data": {
      "text/plain": [
       "'\\n단순히 Label Encoding을 해버리면 명목형 자료에서는 의도하지 않는 중요도가 생길 가능성이 있고 순서형 자료에서는 순서를 제대로 나타내지 못하는 부작용이 생길 가능성이 있다.'"
      ]
     },
     "execution_count": 24,
     "metadata": {},
     "output_type": "execute_result"
    }
   ],
   "execution_count": 24
  },
  {
   "metadata": {
    "ExecuteTime": {
     "end_time": "2025-01-20T07:01:19.242933Z",
     "start_time": "2025-01-20T07:01:19.232883Z"
    }
   },
   "cell_type": "code",
   "source": [
    "import pandas as pd\n",
    "\n",
    "# 데이터프레임 생성\n",
    "data = {\n",
    "    \"ID\": [\"TRAIN_0000\", \"TRAIN_0001\", \"TRAIN_0002\", \"TRAIN_0003\", \"TRAIN_0004\"],\n",
    "    \"age\": [75, 23, 34, 34, 51],\n",
    "    \"education\": [\"Some-college\", \"Bachelors\", \"Some-college\", \"HS-grad\", \"HS-grad\"],\n",
    "    \"hours.per.week\": [30, 40, 12, 36, 60],\n",
    "    \"occupation\": [\"Craft-repair\", \"Exec-managerial\", \"Other-service\", \"Adm-clerical\", \"Farming-fishing\"],\n",
    "    \"race\": [\"White\", \"White\", \"White\", \"White\", \"White\"],\n",
    "    \"target\": [0, 0, 0, 0, 0]\n",
    "}\n",
    "\n",
    "df = pd.DataFrame(data)\n",
    "\n",
    "# CSV로 저장\n",
    "df.to_csv(\"train_data.csv\", index=False, encoding=\"utf-8-sig\")\n",
    "print(\"CSV 파일이 저장되었습니다: train_data.csv\")\n"
   ],
   "id": "33b740388c019068",
   "outputs": [
    {
     "name": "stdout",
     "output_type": "stream",
     "text": [
      "CSV 파일이 저장되었습니다: train_data.csv\n"
     ]
    }
   ],
   "execution_count": 22
  },
  {
   "metadata": {
    "ExecuteTime": {
     "end_time": "2025-01-20T07:47:48.804906Z",
     "start_time": "2025-01-20T07:47:48.797116Z"
    }
   },
   "cell_type": "code",
   "source": [
    "# education column 인코딩하기\n",
    "from sklearn.preprocessing import LabelEncoder\n",
    "import pandas as pd\n",
    "import numpy as np\n",
    "le = LabelEncoder()\n",
    "data = pd.read_csv('train_data.csv')\n",
    "data1 = data.copy()\n",
    "data1['education'] = le.fit_transform(data1['education'])\n",
    "print(data['education'].unique())\n",
    "print(data1['education'].unique())"
   ],
   "id": "8701d2f4560807b2",
   "outputs": [
    {
     "name": "stdout",
     "output_type": "stream",
     "text": [
      "['Some-college' 'Bachelors' 'HS-grad']\n",
      "[2 0 1]\n"
     ]
    }
   ],
   "execution_count": 31
  },
  {
   "metadata": {},
   "cell_type": "code",
   "outputs": [],
   "execution_count": null,
   "source": [
    "# education 열에 새로운 고유값 있는지 확인하기\n",
    "data2 = data.copy()\n",
    "with open('test_income_simple.csv', 'w', encoding = 'utf-8') as file:\n",
    "    file.write('ID,age,education,hours.per.week,occupation,race\n",
    "TEST_0000,23,7th-8th,40,Machine-op-inspct,Black\n",
    "TEST_0001,41,HS-grad,40,Sales,White\n",
    "TEST_0002,47,HS-grad,38,Prof-specialty,White\n",
    "TEST_0003,31,HS-grad,40,Machine-op-inspct,White\n",
    "TEST_0004,22,Some-college,40,Adm-clerical,White\n",
    "')"
   ],
   "id": "3f543a3a5791d96"
  }
 ],
 "metadata": {
  "kernelspec": {
   "display_name": "Python 3",
   "language": "python",
   "name": "python3"
  },
  "language_info": {
   "codemirror_mode": {
    "name": "ipython",
    "version": 2
   },
   "file_extension": ".py",
   "mimetype": "text/x-python",
   "name": "python",
   "nbconvert_exporter": "python",
   "pygments_lexer": "ipython2",
   "version": "2.7.6"
  }
 },
 "nbformat": 4,
 "nbformat_minor": 5
}
