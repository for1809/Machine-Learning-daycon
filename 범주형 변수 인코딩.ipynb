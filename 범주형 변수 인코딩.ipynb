{
 "cells": [
  {
   "cell_type": "code",
   "id": "initial_id",
   "metadata": {
    "collapsed": true,
    "ExecuteTime": {
     "end_time": "2025-01-21T07:21:32.386626Z",
     "start_time": "2025-01-21T07:21:32.377376Z"
    }
   },
   "source": [
    "from os import write\n",
    "\n",
    "# 범주형 변수를 컴퓨터가 이해할 수 있도록 숫자를 매핑시켜야함.\n",
    "import pandas as pd\n",
    "\n",
    "# 데이터프레임 생성\n",
    "data = {\n",
    "    \"Brand\": [\"Ford\", \"Honda\", \"Ford\", \"Toyota\", \"Toyota\", \"Toyota\", \"Honda\", \"Toyota\", \"Toyota\", \"Ford\"],\n",
    "    \"Model\": [\"Sedan\", \"Sedan\", \"SUV\", \"Sedan\", \"Sedan\", \"Sedan\", \"Truck\", \"SUV\", \"Sedan\", \"Sedan\"],\n",
    "    \"정비 이력등급\": [\"없음\", \"보통\", \"없음\", \"정기적\", \"없음\", \"정기적\", \"없음\", \"보통\", \"없음\", \"정기적\"],\n",
    "    \"주행거리\": [44676.6, 51638.2, 57685.7, 45822.0, 38865.6, 56178.5, 58437.6, 39963.5, 61611.4, 73547.4],\n",
    "    \"중고차가격\": [20052.0, 16511.6, 13936.9, 25494.9, 21297.9, 22708.3, 15314.2, 23178.7, 13233.2, 11806.2]\n",
    "}\n",
    "\n",
    "df = pd.DataFrame(data)\n",
    "\n",
    "# CSV로 저장\n",
    "df.to_csv(\"used_car_data.csv\", index=False, encoding=\"utf-8-sig\")\n",
    "print(\"CSV 파일이 저장되었습니다: used_car_data.csv\")\n"
   ],
   "outputs": [
    {
     "name": "stdout",
     "output_type": "stream",
     "text": [
      "CSV 파일이 저장되었습니다: used_car_data.csv\n"
     ]
    }
   ],
   "execution_count": 40
  },
  {
   "metadata": {
    "ExecuteTime": {
     "end_time": "2025-01-21T07:21:32.427879Z",
     "start_time": "2025-01-21T07:21:32.418566Z"
    }
   },
   "cell_type": "code",
   "source": [
    "import pandas as pd\n",
    "\n",
    "# 데이터프레임 생성\n",
    "test_data = {\n",
    "    \"Brand\": [\"Toyota\", \"Ford\", \"Honda\", \"Chevrolet\", \"Toyota\"],\n",
    "    \"Model\": [\"SUV\", \"Truck\", \"Sedan\", \"Sedan\", \"Truck\"],\n",
    "    \"정비 이력등급\": [\"보통\", \"없음\", \"정기적\", \"정기적\", \"없음\"],\n",
    "    \"주행거리\": [45000, 30000, 40000, 50000, 55000]\n",
    "}\n",
    "\n",
    "df_test = pd.DataFrame(test_data)\n",
    "\n",
    "# CSV로 저장\n",
    "df_test.to_csv(\"test_dataset.csv\", index=False, encoding=\"utf-8-sig\")\n",
    "print(\"CSV 파일이 저장되었습니다: test_dataset.csv\")\n"
   ],
   "id": "3b64aed26eedbc30",
   "outputs": [
    {
     "name": "stdout",
     "output_type": "stream",
     "text": [
      "CSV 파일이 저장되었습니다: test_dataset.csv\n"
     ]
    }
   ],
   "execution_count": 41
  },
  {
   "metadata": {
    "ExecuteTime": {
     "end_time": "2025-01-21T07:21:32.683963Z",
     "start_time": "2025-01-21T07:21:32.647029Z"
    }
   },
   "cell_type": "code",
   "source": [
    "from sklearn.preprocessing import LabelEncoder\n",
    "import numpy as np\n",
    "import pandas as pd\n",
    "train_used_car = pd.read_csv(\"used_car_data.csv\")\n",
    "test_used_car = pd.read_csv(\"test_dataset.csv\")\n",
    "\n",
    "categorical_var = ['Brand',  'Model', '정비 이력등급']\n",
    "\n",
    "label_encoders = {}\n",
    "\n",
    "for col in categorical_var:\n",
    "    le_train = LabelEncoder()\n",
    "\n",
    "    train_used_car[col] = le_train.fit_transform(train_used_car[col]) # fit(범주 학습)과 transform(정수 매핑)을 함께 처리\n",
    "    label_encoders[col] = le_train\n",
    "\n",
    "display(train_used_car.head())\n",
    "\n"
   ],
   "id": "756e7facc56a8a4c",
   "outputs": [
    {
     "data": {
      "text/plain": [
       "   Brand  Model  정비 이력등급     주행거리    중고차가격\n",
       "0      0      1        1  44676.6  20052.0\n",
       "1      1      1        0  51638.2  16511.6\n",
       "2      0      0        1  57685.7  13936.9\n",
       "3      2      1        2  45822.0  25494.9\n",
       "4      2      1        1  38865.6  21297.9"
      ],
      "text/html": [
       "<div>\n",
       "<style scoped>\n",
       "    .dataframe tbody tr th:only-of-type {\n",
       "        vertical-align: middle;\n",
       "    }\n",
       "\n",
       "    .dataframe tbody tr th {\n",
       "        vertical-align: top;\n",
       "    }\n",
       "\n",
       "    .dataframe thead th {\n",
       "        text-align: right;\n",
       "    }\n",
       "</style>\n",
       "<table border=\"1\" class=\"dataframe\">\n",
       "  <thead>\n",
       "    <tr style=\"text-align: right;\">\n",
       "      <th></th>\n",
       "      <th>Brand</th>\n",
       "      <th>Model</th>\n",
       "      <th>정비 이력등급</th>\n",
       "      <th>주행거리</th>\n",
       "      <th>중고차가격</th>\n",
       "    </tr>\n",
       "  </thead>\n",
       "  <tbody>\n",
       "    <tr>\n",
       "      <th>0</th>\n",
       "      <td>0</td>\n",
       "      <td>1</td>\n",
       "      <td>1</td>\n",
       "      <td>44676.6</td>\n",
       "      <td>20052.0</td>\n",
       "    </tr>\n",
       "    <tr>\n",
       "      <th>1</th>\n",
       "      <td>1</td>\n",
       "      <td>1</td>\n",
       "      <td>0</td>\n",
       "      <td>51638.2</td>\n",
       "      <td>16511.6</td>\n",
       "    </tr>\n",
       "    <tr>\n",
       "      <th>2</th>\n",
       "      <td>0</td>\n",
       "      <td>0</td>\n",
       "      <td>1</td>\n",
       "      <td>57685.7</td>\n",
       "      <td>13936.9</td>\n",
       "    </tr>\n",
       "    <tr>\n",
       "      <th>3</th>\n",
       "      <td>2</td>\n",
       "      <td>1</td>\n",
       "      <td>2</td>\n",
       "      <td>45822.0</td>\n",
       "      <td>25494.9</td>\n",
       "    </tr>\n",
       "    <tr>\n",
       "      <th>4</th>\n",
       "      <td>2</td>\n",
       "      <td>1</td>\n",
       "      <td>1</td>\n",
       "      <td>38865.6</td>\n",
       "      <td>21297.9</td>\n",
       "    </tr>\n",
       "  </tbody>\n",
       "</table>\n",
       "</div>"
      ]
     },
     "metadata": {},
     "output_type": "display_data"
    }
   ],
   "execution_count": 42
  },
  {
   "metadata": {
    "ExecuteTime": {
     "end_time": "2025-01-21T07:21:32.795017Z",
     "start_time": "2025-01-21T07:21:32.769058Z"
    }
   },
   "cell_type": "code",
   "source": [
    "# 인코딩을 어떻게 수행했는지 확인\n",
    "for col in categorical_var:\n",
    "    display(f\"{col} :\")\n",
    "    for i in range(len(label_encoders[col].classes_)):\n",
    "        display(f\"{label_encoders[col].classes_[i]} ({i})\")"
   ],
   "id": "dad9c74441ee2ca8",
   "outputs": [
    {
     "data": {
      "text/plain": [
       "'Brand :'"
      ]
     },
     "metadata": {},
     "output_type": "display_data"
    },
    {
     "data": {
      "text/plain": [
       "'Ford (0)'"
      ]
     },
     "metadata": {},
     "output_type": "display_data"
    },
    {
     "data": {
      "text/plain": [
       "'Honda (1)'"
      ]
     },
     "metadata": {},
     "output_type": "display_data"
    },
    {
     "data": {
      "text/plain": [
       "'Toyota (2)'"
      ]
     },
     "metadata": {},
     "output_type": "display_data"
    },
    {
     "data": {
      "text/plain": [
       "'Model :'"
      ]
     },
     "metadata": {},
     "output_type": "display_data"
    },
    {
     "data": {
      "text/plain": [
       "'SUV (0)'"
      ]
     },
     "metadata": {},
     "output_type": "display_data"
    },
    {
     "data": {
      "text/plain": [
       "'Sedan (1)'"
      ]
     },
     "metadata": {},
     "output_type": "display_data"
    },
    {
     "data": {
      "text/plain": [
       "'Truck (2)'"
      ]
     },
     "metadata": {},
     "output_type": "display_data"
    },
    {
     "data": {
      "text/plain": [
       "'정비 이력등급 :'"
      ]
     },
     "metadata": {},
     "output_type": "display_data"
    },
    {
     "data": {
      "text/plain": [
       "'보통 (0)'"
      ]
     },
     "metadata": {},
     "output_type": "display_data"
    },
    {
     "data": {
      "text/plain": [
       "'없음 (1)'"
      ]
     },
     "metadata": {},
     "output_type": "display_data"
    },
    {
     "data": {
      "text/plain": [
       "'정기적 (2)'"
      ]
     },
     "metadata": {},
     "output_type": "display_data"
    }
   ],
   "execution_count": 43
  },
  {
   "metadata": {
    "ExecuteTime": {
     "end_time": "2025-01-21T07:21:32.931366Z",
     "start_time": "2025-01-21T07:21:32.917462Z"
    }
   },
   "cell_type": "code",
   "source": [
    "# 테스트 데이터에 적용하기\n",
    "test_ex1 = test_used_car.copy()\n",
    "\n",
    "for col in categorical_var:\n",
    "\n",
    "    try :\n",
    "        test_ex1[col] = label_encoders[col].transform(test_ex1[col]) # 기존에 학습된 규칙으로 정수 인코딩\n",
    "    except Exception as e:\n",
    "         print(f\"label_encoders {col} Error: {e}\")\n",
    "\n",
    "\n",
    "display(test_ex1.head())\n",
    "display(test_ex1[categorical_var].dtypes)"
   ],
   "id": "bcb302c629e4ed15",
   "outputs": [
    {
     "name": "stdout",
     "output_type": "stream",
     "text": [
      "label_encoders Brand Error: y contains previously unseen labels: 'Chevrolet'\n"
     ]
    },
    {
     "data": {
      "text/plain": [
       "       Brand  Model  정비 이력등급   주행거리\n",
       "0     Toyota      0        0  45000\n",
       "1       Ford      2        1  30000\n",
       "2      Honda      1        2  40000\n",
       "3  Chevrolet      1        2  50000\n",
       "4     Toyota      2        1  55000"
      ],
      "text/html": [
       "<div>\n",
       "<style scoped>\n",
       "    .dataframe tbody tr th:only-of-type {\n",
       "        vertical-align: middle;\n",
       "    }\n",
       "\n",
       "    .dataframe tbody tr th {\n",
       "        vertical-align: top;\n",
       "    }\n",
       "\n",
       "    .dataframe thead th {\n",
       "        text-align: right;\n",
       "    }\n",
       "</style>\n",
       "<table border=\"1\" class=\"dataframe\">\n",
       "  <thead>\n",
       "    <tr style=\"text-align: right;\">\n",
       "      <th></th>\n",
       "      <th>Brand</th>\n",
       "      <th>Model</th>\n",
       "      <th>정비 이력등급</th>\n",
       "      <th>주행거리</th>\n",
       "    </tr>\n",
       "  </thead>\n",
       "  <tbody>\n",
       "    <tr>\n",
       "      <th>0</th>\n",
       "      <td>Toyota</td>\n",
       "      <td>0</td>\n",
       "      <td>0</td>\n",
       "      <td>45000</td>\n",
       "    </tr>\n",
       "    <tr>\n",
       "      <th>1</th>\n",
       "      <td>Ford</td>\n",
       "      <td>2</td>\n",
       "      <td>1</td>\n",
       "      <td>30000</td>\n",
       "    </tr>\n",
       "    <tr>\n",
       "      <th>2</th>\n",
       "      <td>Honda</td>\n",
       "      <td>1</td>\n",
       "      <td>2</td>\n",
       "      <td>40000</td>\n",
       "    </tr>\n",
       "    <tr>\n",
       "      <th>3</th>\n",
       "      <td>Chevrolet</td>\n",
       "      <td>1</td>\n",
       "      <td>2</td>\n",
       "      <td>50000</td>\n",
       "    </tr>\n",
       "    <tr>\n",
       "      <th>4</th>\n",
       "      <td>Toyota</td>\n",
       "      <td>2</td>\n",
       "      <td>1</td>\n",
       "      <td>55000</td>\n",
       "    </tr>\n",
       "  </tbody>\n",
       "</table>\n",
       "</div>"
      ]
     },
     "metadata": {},
     "output_type": "display_data"
    },
    {
     "data": {
      "text/plain": [
       "Brand      object\n",
       "Model       int64\n",
       "정비 이력등급     int64\n",
       "dtype: object"
      ]
     },
     "metadata": {},
     "output_type": "display_data"
    }
   ],
   "execution_count": 44
  },
  {
   "metadata": {
    "ExecuteTime": {
     "end_time": "2025-01-21T07:21:33.059214Z",
     "start_time": "2025-01-21T07:21:33.049210Z"
    }
   },
   "cell_type": "code",
   "source": [
    "# 학습 데이터에 없는 범주 처리\n",
    "test_ex2 = test_used_car.copy()\n",
    "\n",
    "# train_used_car 데이터셋의 라벨 인코더 클래스에 '기타' 범주를 다시 추가\n",
    "for le in label_encoders.values():\n",
    "    le.classes_ = np.append(le.classes_, 'Other')\n",
    "\n",
    "# 새로운 범주값을 '기타'로 매핑하고 라벨 인코더를 적용하는 과정을 하나의 루프로 합치기\n",
    "for col in categorical_var:\n",
    "    # 새로운 값들을 '기타'로 매핑\n",
    "    test_ex2[col] = test_ex2[col].apply(lambda x: x if x in label_encoders[col].classes_ else 'Other')\n",
    "    # 라벨 인코더 적용\n",
    "    test_ex2[col] = label_encoders[col].transform(test_ex2[col])\n",
    "\n",
    "# 변환된 test_used_car 데이터셋 보여주기\n",
    "display(test_ex2.head())\n",
    "\n",
    "'''\n",
    "단순히 Label Encoding을 해버리면 명목형 자료에서는 의도하지 않는 중요도가 생길 가능성이 있고 순서형 자료에서는 순서를 제대로 나타내지 못하는 부작용이 생길 가능성이 있다.'''"
   ],
   "id": "6525d6b65c7e24a3",
   "outputs": [
    {
     "data": {
      "text/plain": [
       "   Brand  Model  정비 이력등급   주행거리\n",
       "0      2      0        0  45000\n",
       "1      0      2        1  30000\n",
       "2      1      1        2  40000\n",
       "3      3      1        2  50000\n",
       "4      2      2        1  55000"
      ],
      "text/html": [
       "<div>\n",
       "<style scoped>\n",
       "    .dataframe tbody tr th:only-of-type {\n",
       "        vertical-align: middle;\n",
       "    }\n",
       "\n",
       "    .dataframe tbody tr th {\n",
       "        vertical-align: top;\n",
       "    }\n",
       "\n",
       "    .dataframe thead th {\n",
       "        text-align: right;\n",
       "    }\n",
       "</style>\n",
       "<table border=\"1\" class=\"dataframe\">\n",
       "  <thead>\n",
       "    <tr style=\"text-align: right;\">\n",
       "      <th></th>\n",
       "      <th>Brand</th>\n",
       "      <th>Model</th>\n",
       "      <th>정비 이력등급</th>\n",
       "      <th>주행거리</th>\n",
       "    </tr>\n",
       "  </thead>\n",
       "  <tbody>\n",
       "    <tr>\n",
       "      <th>0</th>\n",
       "      <td>2</td>\n",
       "      <td>0</td>\n",
       "      <td>0</td>\n",
       "      <td>45000</td>\n",
       "    </tr>\n",
       "    <tr>\n",
       "      <th>1</th>\n",
       "      <td>0</td>\n",
       "      <td>2</td>\n",
       "      <td>1</td>\n",
       "      <td>30000</td>\n",
       "    </tr>\n",
       "    <tr>\n",
       "      <th>2</th>\n",
       "      <td>1</td>\n",
       "      <td>1</td>\n",
       "      <td>2</td>\n",
       "      <td>40000</td>\n",
       "    </tr>\n",
       "    <tr>\n",
       "      <th>3</th>\n",
       "      <td>3</td>\n",
       "      <td>1</td>\n",
       "      <td>2</td>\n",
       "      <td>50000</td>\n",
       "    </tr>\n",
       "    <tr>\n",
       "      <th>4</th>\n",
       "      <td>2</td>\n",
       "      <td>2</td>\n",
       "      <td>1</td>\n",
       "      <td>55000</td>\n",
       "    </tr>\n",
       "  </tbody>\n",
       "</table>\n",
       "</div>"
      ]
     },
     "metadata": {},
     "output_type": "display_data"
    },
    {
     "data": {
      "text/plain": [
       "'\\n단순히 Label Encoding을 해버리면 명목형 자료에서는 의도하지 않는 중요도가 생길 가능성이 있고 순서형 자료에서는 순서를 제대로 나타내지 못하는 부작용이 생길 가능성이 있다.'"
      ]
     },
     "execution_count": 45,
     "metadata": {},
     "output_type": "execute_result"
    }
   ],
   "execution_count": 45
  },
  {
   "metadata": {
    "ExecuteTime": {
     "end_time": "2025-01-21T07:21:33.148911Z",
     "start_time": "2025-01-21T07:21:33.142940Z"
    }
   },
   "cell_type": "code",
   "source": [
    "import pandas as pd\n",
    "\n",
    "# 데이터프레임 생성\n",
    "data = {\n",
    "    \"ID\": [\"TRAIN_0000\", \"TRAIN_0001\", \"TRAIN_0002\", \"TRAIN_0003\", \"TRAIN_0004\"],\n",
    "    \"age\": [75, 23, 34, 34, 51],\n",
    "    \"education\": [\"Some-college\", \"Bachelors\", \"Some-college\", \"HS-grad\", \"HS-grad\"],\n",
    "    \"hours.per.week\": [30, 40, 12, 36, 60],\n",
    "    \"occupation\": [\"Craft-repair\", \"Exec-managerial\", \"Other-service\", \"Adm-clerical\", \"Farming-fishing\"],\n",
    "    \"race\": [\"White\", \"White\", \"White\", \"White\", \"White\"],\n",
    "    \"target\": [0, 0, 0, 0, 0]\n",
    "}\n",
    "\n",
    "df = pd.DataFrame(data)\n",
    "\n",
    "# CSV로 저장\n",
    "df.to_csv(\"train_data.csv\", index=False, encoding=\"utf-8-sig\")\n",
    "print(\"CSV 파일이 저장되었습니다: train_data.csv\")\n"
   ],
   "id": "33b740388c019068",
   "outputs": [
    {
     "name": "stdout",
     "output_type": "stream",
     "text": [
      "CSV 파일이 저장되었습니다: train_data.csv\n"
     ]
    }
   ],
   "execution_count": 46
  },
  {
   "metadata": {
    "ExecuteTime": {
     "end_time": "2025-01-21T07:21:33.224763Z",
     "start_time": "2025-01-21T07:21:33.217845Z"
    }
   },
   "cell_type": "code",
   "source": [
    "# education column 인코딩하기\n",
    "from sklearn.preprocessing import LabelEncoder\n",
    "import pandas as pd\n",
    "import numpy as np\n",
    "le = LabelEncoder()\n",
    "data = pd.read_csv('train_data.csv')\n",
    "data1 = data.copy()\n",
    "data1['education'] = le.fit_transform(data1['education'])\n",
    "print(data['education'].unique())\n",
    "print(data1['education'].unique())"
   ],
   "id": "8701d2f4560807b2",
   "outputs": [
    {
     "name": "stdout",
     "output_type": "stream",
     "text": [
      "['Some-college' 'Bachelors' 'HS-grad']\n",
      "[2 0 1]\n"
     ]
    }
   ],
   "execution_count": 47
  },
  {
   "metadata": {
    "ExecuteTime": {
     "end_time": "2025-01-21T07:21:33.339443Z",
     "start_time": "2025-01-21T07:21:33.331205Z"
    }
   },
   "cell_type": "code",
   "source": [
    "# education 열에 새로운 고유값 있는지 확인하기\n",
    "data2 = data.copy()\n",
    "with open('test_income_simple.csv', 'w', encoding = 'utf-8') as file:\n",
    "    file.write('''ID,age,education,hours.per.week,occupation,race,\n",
    "               TEST_0000,23,7th-8th,40,Machine-op-inspct,Black\n",
    "                TEST_0001,41,HS-grad,40,Sales,White\n",
    "                TEST_0002,47,HS-grad,38,Prof-specialty,White\n",
    "                TEST_0003,31,HS-grad,40,Machine-op-inspct,White\n",
    "                TEST_0004,22,Some-college,40,Adm-clerical,White\n",
    "                ''')\n",
    "test = pd.read_csv('test_income_simple.csv', encoding = 'utf-8')\n",
    "dup_check = set(test['education'].unique()) - set(le.classes_)\n",
    "print(dup_check)"
   ],
   "id": "3f543a3a5791d96",
   "outputs": [
    {
     "name": "stdout",
     "output_type": "stream",
     "text": [
      "{'7th-8th'}\n"
     ]
    }
   ],
   "execution_count": 48
  },
  {
   "metadata": {
    "ExecuteTime": {
     "end_time": "2025-01-21T07:21:33.369783Z",
     "start_time": "2025-01-21T07:21:33.356603Z"
    }
   },
   "cell_type": "code",
   "source": [
    "# 순서형 범주답게 인코딩하기\n",
    "# 1. 직접 매핑해주기\n",
    "train_ex2 = data.copy()\n",
    "education_map = {'Preschool' : 0,\n",
    "                 '1st-4th' : 1,\n",
    "                 '5th-6th' : 2,\n",
    "                 '7th-8th' : 3,\n",
    "                 '9th' : 4,\n",
    "                 '10th' : 5,\n",
    "                 '11th' : 6,\n",
    "                 '12th': 7,\n",
    "                 'HS-grad' : 8,\n",
    "                 'Some-college' : 9,\n",
    "                 'Assoc-voc' : 10,\n",
    "                 'Assoc-acdm' : 11,\n",
    "                 'Bachelors' : 12,\n",
    "                 'Masters' : 13,\n",
    "                 'Prof-school' : 14,\n",
    "                 'Doctorate': 15 }\n",
    "\n",
    "train_ex2['education'] = train_ex2['education'].replace(education_map)\n",
    "display(train_ex2.head())\n",
    "display(train_ex2['education'].dtype)\n",
    "display(train_ex2['education'].unique())"
   ],
   "id": "b5d8f5db95436a59",
   "outputs": [
    {
     "name": "stderr",
     "output_type": "stream",
     "text": [
      "C:\\Users\\for18\\AppData\\Local\\Temp\\ipykernel_1536\\3815599254.py:21: FutureWarning: Downcasting behavior in `replace` is deprecated and will be removed in a future version. To retain the old behavior, explicitly call `result.infer_objects(copy=False)`. To opt-in to the future behavior, set `pd.set_option('future.no_silent_downcasting', True)`\n",
      "  train_ex2['education'] = train_ex2['education'].replace(education_map)\n"
     ]
    },
    {
     "data": {
      "text/plain": [
       "           ID  age  education  hours.per.week       occupation   race  target\n",
       "0  TRAIN_0000   75          9              30     Craft-repair  White       0\n",
       "1  TRAIN_0001   23         12              40  Exec-managerial  White       0\n",
       "2  TRAIN_0002   34          9              12    Other-service  White       0\n",
       "3  TRAIN_0003   34          8              36     Adm-clerical  White       0\n",
       "4  TRAIN_0004   51          8              60  Farming-fishing  White       0"
      ],
      "text/html": [
       "<div>\n",
       "<style scoped>\n",
       "    .dataframe tbody tr th:only-of-type {\n",
       "        vertical-align: middle;\n",
       "    }\n",
       "\n",
       "    .dataframe tbody tr th {\n",
       "        vertical-align: top;\n",
       "    }\n",
       "\n",
       "    .dataframe thead th {\n",
       "        text-align: right;\n",
       "    }\n",
       "</style>\n",
       "<table border=\"1\" class=\"dataframe\">\n",
       "  <thead>\n",
       "    <tr style=\"text-align: right;\">\n",
       "      <th></th>\n",
       "      <th>ID</th>\n",
       "      <th>age</th>\n",
       "      <th>education</th>\n",
       "      <th>hours.per.week</th>\n",
       "      <th>occupation</th>\n",
       "      <th>race</th>\n",
       "      <th>target</th>\n",
       "    </tr>\n",
       "  </thead>\n",
       "  <tbody>\n",
       "    <tr>\n",
       "      <th>0</th>\n",
       "      <td>TRAIN_0000</td>\n",
       "      <td>75</td>\n",
       "      <td>9</td>\n",
       "      <td>30</td>\n",
       "      <td>Craft-repair</td>\n",
       "      <td>White</td>\n",
       "      <td>0</td>\n",
       "    </tr>\n",
       "    <tr>\n",
       "      <th>1</th>\n",
       "      <td>TRAIN_0001</td>\n",
       "      <td>23</td>\n",
       "      <td>12</td>\n",
       "      <td>40</td>\n",
       "      <td>Exec-managerial</td>\n",
       "      <td>White</td>\n",
       "      <td>0</td>\n",
       "    </tr>\n",
       "    <tr>\n",
       "      <th>2</th>\n",
       "      <td>TRAIN_0002</td>\n",
       "      <td>34</td>\n",
       "      <td>9</td>\n",
       "      <td>12</td>\n",
       "      <td>Other-service</td>\n",
       "      <td>White</td>\n",
       "      <td>0</td>\n",
       "    </tr>\n",
       "    <tr>\n",
       "      <th>3</th>\n",
       "      <td>TRAIN_0003</td>\n",
       "      <td>34</td>\n",
       "      <td>8</td>\n",
       "      <td>36</td>\n",
       "      <td>Adm-clerical</td>\n",
       "      <td>White</td>\n",
       "      <td>0</td>\n",
       "    </tr>\n",
       "    <tr>\n",
       "      <th>4</th>\n",
       "      <td>TRAIN_0004</td>\n",
       "      <td>51</td>\n",
       "      <td>8</td>\n",
       "      <td>60</td>\n",
       "      <td>Farming-fishing</td>\n",
       "      <td>White</td>\n",
       "      <td>0</td>\n",
       "    </tr>\n",
       "  </tbody>\n",
       "</table>\n",
       "</div>"
      ]
     },
     "metadata": {},
     "output_type": "display_data"
    },
    {
     "data": {
      "text/plain": [
       "dtype('int64')"
      ]
     },
     "metadata": {},
     "output_type": "display_data"
    },
    {
     "data": {
      "text/plain": [
       "array([ 9, 12,  8])"
      ]
     },
     "metadata": {},
     "output_type": "display_data"
    }
   ],
   "execution_count": 49
  },
  {
   "metadata": {
    "ExecuteTime": {
     "end_time": "2025-01-21T07:21:33.429681Z",
     "start_time": "2025-01-21T07:21:33.415945Z"
    }
   },
   "cell_type": "code",
   "source": [
    "# 2. OrdinalEncoder 사용\n",
    "from sklearn.preprocessing import OrdinalEncoder\n",
    "\n",
    "train_ex3 = data.copy()\n",
    "\n",
    "# OrdinalEncoder 초기화 및 범주 순서 지정\n",
    "encoder_train = OrdinalEncoder(categories=[['Preschool', '1st-4th', '5th-6th', '7th-8th', '9th', '10th', '11th', '12th',\n",
    "     'HS-grad', 'Some-college', 'Assoc-voc', 'Assoc-acdm', 'Bachelors', 'Masters',\n",
    "     'Prof-school', 'Doctorate']])\n",
    "\n",
    "# 'education' 컬럼에 OrdinalEncoder 적용\n",
    "train_ex3['education'] = encoder_train.fit_transform(train_ex3[['education']]).astype(int)\n",
    "\n",
    "# 인코딩 순서 확인하기\n",
    "display(encoder_train.categories_)\n",
    "\n",
    "# 인코딩된 결과 확인\n",
    "display(train_ex3.head())\n",
    "display(train_ex3['education'].dtype)\n",
    "display(train_ex3['education'].unique())"
   ],
   "id": "b4fcba60a428af90",
   "outputs": [
    {
     "data": {
      "text/plain": [
       "[array(['Preschool', '1st-4th', '5th-6th', '7th-8th', '9th', '10th',\n",
       "        '11th', '12th', 'HS-grad', 'Some-college', 'Assoc-voc',\n",
       "        'Assoc-acdm', 'Bachelors', 'Masters', 'Prof-school', 'Doctorate'],\n",
       "       dtype=object)]"
      ]
     },
     "metadata": {},
     "output_type": "display_data"
    },
    {
     "data": {
      "text/plain": [
       "           ID  age  education  hours.per.week       occupation   race  target\n",
       "0  TRAIN_0000   75          9              30     Craft-repair  White       0\n",
       "1  TRAIN_0001   23         12              40  Exec-managerial  White       0\n",
       "2  TRAIN_0002   34          9              12    Other-service  White       0\n",
       "3  TRAIN_0003   34          8              36     Adm-clerical  White       0\n",
       "4  TRAIN_0004   51          8              60  Farming-fishing  White       0"
      ],
      "text/html": [
       "<div>\n",
       "<style scoped>\n",
       "    .dataframe tbody tr th:only-of-type {\n",
       "        vertical-align: middle;\n",
       "    }\n",
       "\n",
       "    .dataframe tbody tr th {\n",
       "        vertical-align: top;\n",
       "    }\n",
       "\n",
       "    .dataframe thead th {\n",
       "        text-align: right;\n",
       "    }\n",
       "</style>\n",
       "<table border=\"1\" class=\"dataframe\">\n",
       "  <thead>\n",
       "    <tr style=\"text-align: right;\">\n",
       "      <th></th>\n",
       "      <th>ID</th>\n",
       "      <th>age</th>\n",
       "      <th>education</th>\n",
       "      <th>hours.per.week</th>\n",
       "      <th>occupation</th>\n",
       "      <th>race</th>\n",
       "      <th>target</th>\n",
       "    </tr>\n",
       "  </thead>\n",
       "  <tbody>\n",
       "    <tr>\n",
       "      <th>0</th>\n",
       "      <td>TRAIN_0000</td>\n",
       "      <td>75</td>\n",
       "      <td>9</td>\n",
       "      <td>30</td>\n",
       "      <td>Craft-repair</td>\n",
       "      <td>White</td>\n",
       "      <td>0</td>\n",
       "    </tr>\n",
       "    <tr>\n",
       "      <th>1</th>\n",
       "      <td>TRAIN_0001</td>\n",
       "      <td>23</td>\n",
       "      <td>12</td>\n",
       "      <td>40</td>\n",
       "      <td>Exec-managerial</td>\n",
       "      <td>White</td>\n",
       "      <td>0</td>\n",
       "    </tr>\n",
       "    <tr>\n",
       "      <th>2</th>\n",
       "      <td>TRAIN_0002</td>\n",
       "      <td>34</td>\n",
       "      <td>9</td>\n",
       "      <td>12</td>\n",
       "      <td>Other-service</td>\n",
       "      <td>White</td>\n",
       "      <td>0</td>\n",
       "    </tr>\n",
       "    <tr>\n",
       "      <th>3</th>\n",
       "      <td>TRAIN_0003</td>\n",
       "      <td>34</td>\n",
       "      <td>8</td>\n",
       "      <td>36</td>\n",
       "      <td>Adm-clerical</td>\n",
       "      <td>White</td>\n",
       "      <td>0</td>\n",
       "    </tr>\n",
       "    <tr>\n",
       "      <th>4</th>\n",
       "      <td>TRAIN_0004</td>\n",
       "      <td>51</td>\n",
       "      <td>8</td>\n",
       "      <td>60</td>\n",
       "      <td>Farming-fishing</td>\n",
       "      <td>White</td>\n",
       "      <td>0</td>\n",
       "    </tr>\n",
       "  </tbody>\n",
       "</table>\n",
       "</div>"
      ]
     },
     "metadata": {},
     "output_type": "display_data"
    },
    {
     "data": {
      "text/plain": [
       "dtype('int64')"
      ]
     },
     "metadata": {},
     "output_type": "display_data"
    },
    {
     "data": {
      "text/plain": [
       "array([ 9, 12,  8])"
      ]
     },
     "metadata": {},
     "output_type": "display_data"
    }
   ],
   "execution_count": 50
  },
  {
   "metadata": {
    "ExecuteTime": {
     "end_time": "2025-01-21T07:21:33.575582Z",
     "start_time": "2025-01-21T07:21:33.570826Z"
    }
   },
   "cell_type": "code",
   "source": "# 범주수를 최대한 줄이고 순서형일 경우 수동 매핑 혹은 ordinal encode 실시해야함",
   "id": "1a24acab2046df7a",
   "outputs": [],
   "execution_count": 51
  },
  {
   "metadata": {
    "ExecuteTime": {
     "end_time": "2025-01-21T07:21:33.666444Z",
     "start_time": "2025-01-21T07:21:33.650635Z"
    }
   },
   "cell_type": "code",
   "source": [
    "# 명목형 변수 인코딩\n",
    "from sklearn.preprocessing import OneHotEncoder\n",
    "import pandas as pd\n",
    "train_used_car = pd.read_csv('used_car_data.csv')\n",
    "train_ex1 = train_used_car.copy()\n",
    "encoder = OneHotEncoder(sparse_output = False, handle_unknown = 'ignore')\n",
    "train_encoded = encoder.fit_transform(train_used_car[['Brand', 'Model']]) #  이진 인코딩. 해당 범주가 맞으면 1 아니면 0으로 분류함\n",
    "encoded_columns = encoder.get_feature_names_out(['Brand', 'Model'])\n",
    "train_encoded_df = pd.DataFrame(train_encoded, columns = encoded_columns)\n",
    "train_ex1 = pd.concat([train_ex1, train_encoded_df], axis = 1).drop(['Brand', 'Model'], axis = 1)\n",
    "train_ex1"
   ],
   "id": "3c2b247a3f312a56",
   "outputs": [
    {
     "data": {
      "text/plain": [
       "  정비 이력등급     주행거리    중고차가격  Brand_Ford  Brand_Honda  Brand_Toyota  Model_SUV  \\\n",
       "0      없음  44676.6  20052.0         1.0          0.0           0.0        0.0   \n",
       "1      보통  51638.2  16511.6         0.0          1.0           0.0        0.0   \n",
       "2      없음  57685.7  13936.9         1.0          0.0           0.0        1.0   \n",
       "3     정기적  45822.0  25494.9         0.0          0.0           1.0        0.0   \n",
       "4      없음  38865.6  21297.9         0.0          0.0           1.0        0.0   \n",
       "5     정기적  56178.5  22708.3         0.0          0.0           1.0        0.0   \n",
       "6      없음  58437.6  15314.2         0.0          1.0           0.0        0.0   \n",
       "7      보통  39963.5  23178.7         0.0          0.0           1.0        1.0   \n",
       "8      없음  61611.4  13233.2         0.0          0.0           1.0        0.0   \n",
       "9     정기적  73547.4  11806.2         1.0          0.0           0.0        0.0   \n",
       "\n",
       "   Model_Sedan  Model_Truck  \n",
       "0          1.0          0.0  \n",
       "1          1.0          0.0  \n",
       "2          0.0          0.0  \n",
       "3          1.0          0.0  \n",
       "4          1.0          0.0  \n",
       "5          1.0          0.0  \n",
       "6          0.0          1.0  \n",
       "7          0.0          0.0  \n",
       "8          1.0          0.0  \n",
       "9          1.0          0.0  "
      ],
      "text/html": [
       "<div>\n",
       "<style scoped>\n",
       "    .dataframe tbody tr th:only-of-type {\n",
       "        vertical-align: middle;\n",
       "    }\n",
       "\n",
       "    .dataframe tbody tr th {\n",
       "        vertical-align: top;\n",
       "    }\n",
       "\n",
       "    .dataframe thead th {\n",
       "        text-align: right;\n",
       "    }\n",
       "</style>\n",
       "<table border=\"1\" class=\"dataframe\">\n",
       "  <thead>\n",
       "    <tr style=\"text-align: right;\">\n",
       "      <th></th>\n",
       "      <th>정비 이력등급</th>\n",
       "      <th>주행거리</th>\n",
       "      <th>중고차가격</th>\n",
       "      <th>Brand_Ford</th>\n",
       "      <th>Brand_Honda</th>\n",
       "      <th>Brand_Toyota</th>\n",
       "      <th>Model_SUV</th>\n",
       "      <th>Model_Sedan</th>\n",
       "      <th>Model_Truck</th>\n",
       "    </tr>\n",
       "  </thead>\n",
       "  <tbody>\n",
       "    <tr>\n",
       "      <th>0</th>\n",
       "      <td>없음</td>\n",
       "      <td>44676.6</td>\n",
       "      <td>20052.0</td>\n",
       "      <td>1.0</td>\n",
       "      <td>0.0</td>\n",
       "      <td>0.0</td>\n",
       "      <td>0.0</td>\n",
       "      <td>1.0</td>\n",
       "      <td>0.0</td>\n",
       "    </tr>\n",
       "    <tr>\n",
       "      <th>1</th>\n",
       "      <td>보통</td>\n",
       "      <td>51638.2</td>\n",
       "      <td>16511.6</td>\n",
       "      <td>0.0</td>\n",
       "      <td>1.0</td>\n",
       "      <td>0.0</td>\n",
       "      <td>0.0</td>\n",
       "      <td>1.0</td>\n",
       "      <td>0.0</td>\n",
       "    </tr>\n",
       "    <tr>\n",
       "      <th>2</th>\n",
       "      <td>없음</td>\n",
       "      <td>57685.7</td>\n",
       "      <td>13936.9</td>\n",
       "      <td>1.0</td>\n",
       "      <td>0.0</td>\n",
       "      <td>0.0</td>\n",
       "      <td>1.0</td>\n",
       "      <td>0.0</td>\n",
       "      <td>0.0</td>\n",
       "    </tr>\n",
       "    <tr>\n",
       "      <th>3</th>\n",
       "      <td>정기적</td>\n",
       "      <td>45822.0</td>\n",
       "      <td>25494.9</td>\n",
       "      <td>0.0</td>\n",
       "      <td>0.0</td>\n",
       "      <td>1.0</td>\n",
       "      <td>0.0</td>\n",
       "      <td>1.0</td>\n",
       "      <td>0.0</td>\n",
       "    </tr>\n",
       "    <tr>\n",
       "      <th>4</th>\n",
       "      <td>없음</td>\n",
       "      <td>38865.6</td>\n",
       "      <td>21297.9</td>\n",
       "      <td>0.0</td>\n",
       "      <td>0.0</td>\n",
       "      <td>1.0</td>\n",
       "      <td>0.0</td>\n",
       "      <td>1.0</td>\n",
       "      <td>0.0</td>\n",
       "    </tr>\n",
       "    <tr>\n",
       "      <th>5</th>\n",
       "      <td>정기적</td>\n",
       "      <td>56178.5</td>\n",
       "      <td>22708.3</td>\n",
       "      <td>0.0</td>\n",
       "      <td>0.0</td>\n",
       "      <td>1.0</td>\n",
       "      <td>0.0</td>\n",
       "      <td>1.0</td>\n",
       "      <td>0.0</td>\n",
       "    </tr>\n",
       "    <tr>\n",
       "      <th>6</th>\n",
       "      <td>없음</td>\n",
       "      <td>58437.6</td>\n",
       "      <td>15314.2</td>\n",
       "      <td>0.0</td>\n",
       "      <td>1.0</td>\n",
       "      <td>0.0</td>\n",
       "      <td>0.0</td>\n",
       "      <td>0.0</td>\n",
       "      <td>1.0</td>\n",
       "    </tr>\n",
       "    <tr>\n",
       "      <th>7</th>\n",
       "      <td>보통</td>\n",
       "      <td>39963.5</td>\n",
       "      <td>23178.7</td>\n",
       "      <td>0.0</td>\n",
       "      <td>0.0</td>\n",
       "      <td>1.0</td>\n",
       "      <td>1.0</td>\n",
       "      <td>0.0</td>\n",
       "      <td>0.0</td>\n",
       "    </tr>\n",
       "    <tr>\n",
       "      <th>8</th>\n",
       "      <td>없음</td>\n",
       "      <td>61611.4</td>\n",
       "      <td>13233.2</td>\n",
       "      <td>0.0</td>\n",
       "      <td>0.0</td>\n",
       "      <td>1.0</td>\n",
       "      <td>0.0</td>\n",
       "      <td>1.0</td>\n",
       "      <td>0.0</td>\n",
       "    </tr>\n",
       "    <tr>\n",
       "      <th>9</th>\n",
       "      <td>정기적</td>\n",
       "      <td>73547.4</td>\n",
       "      <td>11806.2</td>\n",
       "      <td>1.0</td>\n",
       "      <td>0.0</td>\n",
       "      <td>0.0</td>\n",
       "      <td>0.0</td>\n",
       "      <td>1.0</td>\n",
       "      <td>0.0</td>\n",
       "    </tr>\n",
       "  </tbody>\n",
       "</table>\n",
       "</div>"
      ]
     },
     "execution_count": 52,
     "metadata": {},
     "output_type": "execute_result"
    }
   ],
   "execution_count": 52
  },
  {
   "metadata": {
    "ExecuteTime": {
     "end_time": "2025-01-21T07:21:33.758993Z",
     "start_time": "2025-01-21T07:21:33.740199Z"
    }
   },
   "cell_type": "code",
   "source": [
    "test_used_car = pd.read_csv('test_dataset.csv')\n",
    "test_ex1 = test_used_car.copy()\n",
    "try :\n",
    "    test_encoded = encoder.transform(test_ex1[['Brand', 'Model']])\n",
    "    test_encoded_df = pd.DataFrame(test_encoded, columns=encoded_columns)\n",
    "    test_ex1 = pd.concat([test_ex1, test_encoded_df], axis=1).drop(['Brand', 'Model'], axis=1)\n",
    "    test_ex1\n",
    "\n",
    "except Exception as e:\n",
    "    print(f\"Error : {e}\") # 학습 데이터셋에 없는 데이터가 존재하므로 에러 발생(Chevorlet), encoder에 handle_unknown = 'ignore' 추가해주면 해결됨\n",
    "display(test_ex1)"
   ],
   "id": "f39c2542d23c2349",
   "outputs": [
    {
     "data": {
      "text/plain": [
       "  정비 이력등급   주행거리  Brand_Ford  Brand_Honda  Brand_Toyota  Model_SUV  \\\n",
       "0      보통  45000         0.0          0.0           1.0        1.0   \n",
       "1      없음  30000         1.0          0.0           0.0        0.0   \n",
       "2     정기적  40000         0.0          1.0           0.0        0.0   \n",
       "3     정기적  50000         0.0          0.0           0.0        0.0   \n",
       "4      없음  55000         0.0          0.0           1.0        0.0   \n",
       "\n",
       "   Model_Sedan  Model_Truck  \n",
       "0          0.0          0.0  \n",
       "1          0.0          1.0  \n",
       "2          1.0          0.0  \n",
       "3          1.0          0.0  \n",
       "4          0.0          1.0  "
      ],
      "text/html": [
       "<div>\n",
       "<style scoped>\n",
       "    .dataframe tbody tr th:only-of-type {\n",
       "        vertical-align: middle;\n",
       "    }\n",
       "\n",
       "    .dataframe tbody tr th {\n",
       "        vertical-align: top;\n",
       "    }\n",
       "\n",
       "    .dataframe thead th {\n",
       "        text-align: right;\n",
       "    }\n",
       "</style>\n",
       "<table border=\"1\" class=\"dataframe\">\n",
       "  <thead>\n",
       "    <tr style=\"text-align: right;\">\n",
       "      <th></th>\n",
       "      <th>정비 이력등급</th>\n",
       "      <th>주행거리</th>\n",
       "      <th>Brand_Ford</th>\n",
       "      <th>Brand_Honda</th>\n",
       "      <th>Brand_Toyota</th>\n",
       "      <th>Model_SUV</th>\n",
       "      <th>Model_Sedan</th>\n",
       "      <th>Model_Truck</th>\n",
       "    </tr>\n",
       "  </thead>\n",
       "  <tbody>\n",
       "    <tr>\n",
       "      <th>0</th>\n",
       "      <td>보통</td>\n",
       "      <td>45000</td>\n",
       "      <td>0.0</td>\n",
       "      <td>0.0</td>\n",
       "      <td>1.0</td>\n",
       "      <td>1.0</td>\n",
       "      <td>0.0</td>\n",
       "      <td>0.0</td>\n",
       "    </tr>\n",
       "    <tr>\n",
       "      <th>1</th>\n",
       "      <td>없음</td>\n",
       "      <td>30000</td>\n",
       "      <td>1.0</td>\n",
       "      <td>0.0</td>\n",
       "      <td>0.0</td>\n",
       "      <td>0.0</td>\n",
       "      <td>0.0</td>\n",
       "      <td>1.0</td>\n",
       "    </tr>\n",
       "    <tr>\n",
       "      <th>2</th>\n",
       "      <td>정기적</td>\n",
       "      <td>40000</td>\n",
       "      <td>0.0</td>\n",
       "      <td>1.0</td>\n",
       "      <td>0.0</td>\n",
       "      <td>0.0</td>\n",
       "      <td>1.0</td>\n",
       "      <td>0.0</td>\n",
       "    </tr>\n",
       "    <tr>\n",
       "      <th>3</th>\n",
       "      <td>정기적</td>\n",
       "      <td>50000</td>\n",
       "      <td>0.0</td>\n",
       "      <td>0.0</td>\n",
       "      <td>0.0</td>\n",
       "      <td>0.0</td>\n",
       "      <td>1.0</td>\n",
       "      <td>0.0</td>\n",
       "    </tr>\n",
       "    <tr>\n",
       "      <th>4</th>\n",
       "      <td>없음</td>\n",
       "      <td>55000</td>\n",
       "      <td>0.0</td>\n",
       "      <td>0.0</td>\n",
       "      <td>1.0</td>\n",
       "      <td>0.0</td>\n",
       "      <td>0.0</td>\n",
       "      <td>1.0</td>\n",
       "    </tr>\n",
       "  </tbody>\n",
       "</table>\n",
       "</div>"
      ]
     },
     "metadata": {},
     "output_type": "display_data"
    }
   ],
   "execution_count": 53
  },
  {
   "metadata": {
    "ExecuteTime": {
     "end_time": "2025-01-21T07:21:33.829293Z",
     "start_time": "2025-01-21T07:21:33.820791Z"
    }
   },
   "cell_type": "code",
   "source": [
    "# Brand_Honda, Brand_Toyota가 모두 0이면 자동으로 Brand_Ford는 1이되고\n",
    "# 모델도 마찬가지임. 따라서 첫번째 열은 필요없다고 봐도 무방함. 오히려 악영향을 줌(다중공선성, 더미 변수의 함정)"
   ],
   "id": "e5810c5197015e3a",
   "outputs": [],
   "execution_count": 54
  },
  {
   "metadata": {
    "ExecuteTime": {
     "end_time": "2025-01-21T07:21:33.952781Z",
     "start_time": "2025-01-21T07:21:33.917258Z"
    }
   },
   "cell_type": "code",
   "source": [
    "import pandas as pd\n",
    "from sklearn.preprocessing import OneHotEncoder\n",
    "\n",
    "train_ex3 = train_used_car.copy()\n",
    "\n",
    "encoder_ex3 = OneHotEncoder(sparse_output = False, drop = 'first', handle_unknown = 'ignore') # 첫번째 열 제거\n",
    "train_encoded_ex3 = encoder_ex3.fit_transform(train_ex3[['Brand','Model']])\n",
    "\n",
    "# Convert the encoded features into a DataFrame\n",
    "encoded_columns_ex3 = encoder_ex3.get_feature_names_out(['Brand', 'Model'])\n",
    "train_encoded_df3 = pd.DataFrame(train_encoded_ex3, columns=encoded_columns_ex3)\n",
    "\n",
    "train_ex3 = pd.concat([train_ex3, train_encoded_df3], axis=1).drop(['Brand', 'Model'], axis=1)\n",
    "\n",
    "test_ex3 = test_used_car.copy()\n",
    "test_encoded_ex3 = encoder_ex3.transform(test_ex3[['Brand', 'Model']])\n",
    "test_encoded_df3 = pd.DataFrame(test_encoded_ex3, columns=encoded_columns_ex3)\n",
    "\n",
    "test_ex3 = pd.concat([test_ex3, test_encoded_df3], axis=1).drop(['Brand', 'Model'], axis=1)\n",
    "\n",
    "display(encoded_columns_ex3)\n",
    "display(train_ex3.head())\n",
    "display(test_ex3.head())"
   ],
   "id": "878099eb4addad0d",
   "outputs": [
    {
     "name": "stderr",
     "output_type": "stream",
     "text": [
      "C:\\Users\\for18\\OneDrive\\문서\\GitHub\\Machine-Learning-daycon\\.venv\\Lib\\site-packages\\sklearn\\preprocessing\\_encoders.py:246: UserWarning: Found unknown categories in columns [0] during transform. These unknown categories will be encoded as all zeros\n",
      "  warnings.warn(\n"
     ]
    },
    {
     "data": {
      "text/plain": [
       "array(['Brand_Honda', 'Brand_Toyota', 'Model_Sedan', 'Model_Truck'],\n",
       "      dtype=object)"
      ]
     },
     "metadata": {},
     "output_type": "display_data"
    },
    {
     "data": {
      "text/plain": [
       "  정비 이력등급     주행거리    중고차가격  Brand_Honda  Brand_Toyota  Model_Sedan  \\\n",
       "0      없음  44676.6  20052.0          0.0           0.0          1.0   \n",
       "1      보통  51638.2  16511.6          1.0           0.0          1.0   \n",
       "2      없음  57685.7  13936.9          0.0           0.0          0.0   \n",
       "3     정기적  45822.0  25494.9          0.0           1.0          1.0   \n",
       "4      없음  38865.6  21297.9          0.0           1.0          1.0   \n",
       "\n",
       "   Model_Truck  \n",
       "0          0.0  \n",
       "1          0.0  \n",
       "2          0.0  \n",
       "3          0.0  \n",
       "4          0.0  "
      ],
      "text/html": [
       "<div>\n",
       "<style scoped>\n",
       "    .dataframe tbody tr th:only-of-type {\n",
       "        vertical-align: middle;\n",
       "    }\n",
       "\n",
       "    .dataframe tbody tr th {\n",
       "        vertical-align: top;\n",
       "    }\n",
       "\n",
       "    .dataframe thead th {\n",
       "        text-align: right;\n",
       "    }\n",
       "</style>\n",
       "<table border=\"1\" class=\"dataframe\">\n",
       "  <thead>\n",
       "    <tr style=\"text-align: right;\">\n",
       "      <th></th>\n",
       "      <th>정비 이력등급</th>\n",
       "      <th>주행거리</th>\n",
       "      <th>중고차가격</th>\n",
       "      <th>Brand_Honda</th>\n",
       "      <th>Brand_Toyota</th>\n",
       "      <th>Model_Sedan</th>\n",
       "      <th>Model_Truck</th>\n",
       "    </tr>\n",
       "  </thead>\n",
       "  <tbody>\n",
       "    <tr>\n",
       "      <th>0</th>\n",
       "      <td>없음</td>\n",
       "      <td>44676.6</td>\n",
       "      <td>20052.0</td>\n",
       "      <td>0.0</td>\n",
       "      <td>0.0</td>\n",
       "      <td>1.0</td>\n",
       "      <td>0.0</td>\n",
       "    </tr>\n",
       "    <tr>\n",
       "      <th>1</th>\n",
       "      <td>보통</td>\n",
       "      <td>51638.2</td>\n",
       "      <td>16511.6</td>\n",
       "      <td>1.0</td>\n",
       "      <td>0.0</td>\n",
       "      <td>1.0</td>\n",
       "      <td>0.0</td>\n",
       "    </tr>\n",
       "    <tr>\n",
       "      <th>2</th>\n",
       "      <td>없음</td>\n",
       "      <td>57685.7</td>\n",
       "      <td>13936.9</td>\n",
       "      <td>0.0</td>\n",
       "      <td>0.0</td>\n",
       "      <td>0.0</td>\n",
       "      <td>0.0</td>\n",
       "    </tr>\n",
       "    <tr>\n",
       "      <th>3</th>\n",
       "      <td>정기적</td>\n",
       "      <td>45822.0</td>\n",
       "      <td>25494.9</td>\n",
       "      <td>0.0</td>\n",
       "      <td>1.0</td>\n",
       "      <td>1.0</td>\n",
       "      <td>0.0</td>\n",
       "    </tr>\n",
       "    <tr>\n",
       "      <th>4</th>\n",
       "      <td>없음</td>\n",
       "      <td>38865.6</td>\n",
       "      <td>21297.9</td>\n",
       "      <td>0.0</td>\n",
       "      <td>1.0</td>\n",
       "      <td>1.0</td>\n",
       "      <td>0.0</td>\n",
       "    </tr>\n",
       "  </tbody>\n",
       "</table>\n",
       "</div>"
      ]
     },
     "metadata": {},
     "output_type": "display_data"
    },
    {
     "data": {
      "text/plain": [
       "  정비 이력등급   주행거리  Brand_Honda  Brand_Toyota  Model_Sedan  Model_Truck\n",
       "0      보통  45000          0.0           1.0          0.0          0.0\n",
       "1      없음  30000          0.0           0.0          0.0          1.0\n",
       "2     정기적  40000          1.0           0.0          1.0          0.0\n",
       "3     정기적  50000          0.0           0.0          1.0          0.0\n",
       "4      없음  55000          0.0           1.0          0.0          1.0"
      ],
      "text/html": [
       "<div>\n",
       "<style scoped>\n",
       "    .dataframe tbody tr th:only-of-type {\n",
       "        vertical-align: middle;\n",
       "    }\n",
       "\n",
       "    .dataframe tbody tr th {\n",
       "        vertical-align: top;\n",
       "    }\n",
       "\n",
       "    .dataframe thead th {\n",
       "        text-align: right;\n",
       "    }\n",
       "</style>\n",
       "<table border=\"1\" class=\"dataframe\">\n",
       "  <thead>\n",
       "    <tr style=\"text-align: right;\">\n",
       "      <th></th>\n",
       "      <th>정비 이력등급</th>\n",
       "      <th>주행거리</th>\n",
       "      <th>Brand_Honda</th>\n",
       "      <th>Brand_Toyota</th>\n",
       "      <th>Model_Sedan</th>\n",
       "      <th>Model_Truck</th>\n",
       "    </tr>\n",
       "  </thead>\n",
       "  <tbody>\n",
       "    <tr>\n",
       "      <th>0</th>\n",
       "      <td>보통</td>\n",
       "      <td>45000</td>\n",
       "      <td>0.0</td>\n",
       "      <td>1.0</td>\n",
       "      <td>0.0</td>\n",
       "      <td>0.0</td>\n",
       "    </tr>\n",
       "    <tr>\n",
       "      <th>1</th>\n",
       "      <td>없음</td>\n",
       "      <td>30000</td>\n",
       "      <td>0.0</td>\n",
       "      <td>0.0</td>\n",
       "      <td>0.0</td>\n",
       "      <td>1.0</td>\n",
       "    </tr>\n",
       "    <tr>\n",
       "      <th>2</th>\n",
       "      <td>정기적</td>\n",
       "      <td>40000</td>\n",
       "      <td>1.0</td>\n",
       "      <td>0.0</td>\n",
       "      <td>1.0</td>\n",
       "      <td>0.0</td>\n",
       "    </tr>\n",
       "    <tr>\n",
       "      <th>3</th>\n",
       "      <td>정기적</td>\n",
       "      <td>50000</td>\n",
       "      <td>0.0</td>\n",
       "      <td>0.0</td>\n",
       "      <td>1.0</td>\n",
       "      <td>0.0</td>\n",
       "    </tr>\n",
       "    <tr>\n",
       "      <th>4</th>\n",
       "      <td>없음</td>\n",
       "      <td>55000</td>\n",
       "      <td>0.0</td>\n",
       "      <td>1.0</td>\n",
       "      <td>0.0</td>\n",
       "      <td>1.0</td>\n",
       "    </tr>\n",
       "  </tbody>\n",
       "</table>\n",
       "</div>"
      ]
     },
     "metadata": {},
     "output_type": "display_data"
    }
   ],
   "execution_count": 55
  },
  {
   "metadata": {
    "ExecuteTime": {
     "end_time": "2025-01-21T07:39:20.556638Z",
     "start_time": "2025-01-21T07:39:20.518632Z"
    }
   },
   "cell_type": "code",
   "source": [
    "# 범주가 다수일 때 사용하는 BinaryEncoding\n",
    "# Label Encode 후 이진수로 표현하여 고정된 길이의 범주 생성\n",
    "import category_encoders as ce\n",
    "train_ex5 = pd.read_csv('train_data.csv').copy()\n",
    "encoder_ex5 = ce.BinaryEncoder(cols = ['occupation'])\n",
    "train_encoded_ex5 = encoder_ex5.fit_transform(train_ex5[['occupation']])\n",
    "encoded_columns_ex5 = train_encoded_ex5.columns # 열 이름 추출\n",
    "train_encoded_df5 = pd.DataFrame(train_encoded_ex5, columns=encoded_columns_ex5) # 열 지정하기\n",
    "train_ex5 = pd.concat([train_ex5, train_encoded_df5], axis = 1).drop(['occupation'], axis = 1)\n",
    "train_ex5"
   ],
   "id": "82c075c9cba1a76d",
   "outputs": [
    {
     "data": {
      "text/plain": [
       "           ID  age     education  hours.per.week   race  target  occupation_0  \\\n",
       "0  TRAIN_0000   75  Some-college              30  White       0             0   \n",
       "1  TRAIN_0001   23     Bachelors              40  White       0             0   \n",
       "2  TRAIN_0002   34  Some-college              12  White       0             0   \n",
       "3  TRAIN_0003   34       HS-grad              36  White       0             1   \n",
       "4  TRAIN_0004   51       HS-grad              60  White       0             1   \n",
       "\n",
       "   occupation_1  occupation_2  \n",
       "0             0             1  \n",
       "1             1             0  \n",
       "2             1             1  \n",
       "3             0             0  \n",
       "4             0             1  "
      ],
      "text/html": [
       "<div>\n",
       "<style scoped>\n",
       "    .dataframe tbody tr th:only-of-type {\n",
       "        vertical-align: middle;\n",
       "    }\n",
       "\n",
       "    .dataframe tbody tr th {\n",
       "        vertical-align: top;\n",
       "    }\n",
       "\n",
       "    .dataframe thead th {\n",
       "        text-align: right;\n",
       "    }\n",
       "</style>\n",
       "<table border=\"1\" class=\"dataframe\">\n",
       "  <thead>\n",
       "    <tr style=\"text-align: right;\">\n",
       "      <th></th>\n",
       "      <th>ID</th>\n",
       "      <th>age</th>\n",
       "      <th>education</th>\n",
       "      <th>hours.per.week</th>\n",
       "      <th>race</th>\n",
       "      <th>target</th>\n",
       "      <th>occupation_0</th>\n",
       "      <th>occupation_1</th>\n",
       "      <th>occupation_2</th>\n",
       "    </tr>\n",
       "  </thead>\n",
       "  <tbody>\n",
       "    <tr>\n",
       "      <th>0</th>\n",
       "      <td>TRAIN_0000</td>\n",
       "      <td>75</td>\n",
       "      <td>Some-college</td>\n",
       "      <td>30</td>\n",
       "      <td>White</td>\n",
       "      <td>0</td>\n",
       "      <td>0</td>\n",
       "      <td>0</td>\n",
       "      <td>1</td>\n",
       "    </tr>\n",
       "    <tr>\n",
       "      <th>1</th>\n",
       "      <td>TRAIN_0001</td>\n",
       "      <td>23</td>\n",
       "      <td>Bachelors</td>\n",
       "      <td>40</td>\n",
       "      <td>White</td>\n",
       "      <td>0</td>\n",
       "      <td>0</td>\n",
       "      <td>1</td>\n",
       "      <td>0</td>\n",
       "    </tr>\n",
       "    <tr>\n",
       "      <th>2</th>\n",
       "      <td>TRAIN_0002</td>\n",
       "      <td>34</td>\n",
       "      <td>Some-college</td>\n",
       "      <td>12</td>\n",
       "      <td>White</td>\n",
       "      <td>0</td>\n",
       "      <td>0</td>\n",
       "      <td>1</td>\n",
       "      <td>1</td>\n",
       "    </tr>\n",
       "    <tr>\n",
       "      <th>3</th>\n",
       "      <td>TRAIN_0003</td>\n",
       "      <td>34</td>\n",
       "      <td>HS-grad</td>\n",
       "      <td>36</td>\n",
       "      <td>White</td>\n",
       "      <td>0</td>\n",
       "      <td>1</td>\n",
       "      <td>0</td>\n",
       "      <td>0</td>\n",
       "    </tr>\n",
       "    <tr>\n",
       "      <th>4</th>\n",
       "      <td>TRAIN_0004</td>\n",
       "      <td>51</td>\n",
       "      <td>HS-grad</td>\n",
       "      <td>60</td>\n",
       "      <td>White</td>\n",
       "      <td>0</td>\n",
       "      <td>1</td>\n",
       "      <td>0</td>\n",
       "      <td>1</td>\n",
       "    </tr>\n",
       "  </tbody>\n",
       "</table>\n",
       "</div>"
      ]
     },
     "execution_count": 68,
     "metadata": {},
     "output_type": "execute_result"
    }
   ],
   "execution_count": 68
  },
  {
   "metadata": {},
   "cell_type": "code",
   "outputs": [],
   "execution_count": null,
   "source": "",
   "id": "a7adbb3ec779d83e"
  }
 ],
 "metadata": {
  "kernelspec": {
   "display_name": "Python 3",
   "language": "python",
   "name": "python3"
  },
  "language_info": {
   "codemirror_mode": {
    "name": "ipython",
    "version": 2
   },
   "file_extension": ".py",
   "mimetype": "text/x-python",
   "name": "python",
   "nbconvert_exporter": "python",
   "pygments_lexer": "ipython2",
   "version": "2.7.6"
  }
 },
 "nbformat": 4,
 "nbformat_minor": 5
}
