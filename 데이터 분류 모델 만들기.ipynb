{
 "cells": [
  {
   "cell_type": "code",
   "id": "initial_id",
   "metadata": {
    "collapsed": true,
    "ExecuteTime": {
     "end_time": "2025-01-25T10:38:30.726164Z",
     "start_time": "2025-01-25T10:38:30.720239Z"
    }
   },
   "source": [
    "# RandomForest: 다수의 Decision Tree를 학습시키고 다수결 투표로 분류함\n",
    "# IRIS 데이터로 실습\n",
    "from sklearn.datasets import load_iris\n",
    "import pandas as pd\n",
    "\n",
    "iris = load_iris()\n",
    "display(iris)\n",
    "iris_df = pd.DataFrame(iris.data, columns = iris.feature_names)\n",
    "iris_df['target'] = iris.target\n",
    "display(iris_df.head())from sklearn.ensemble import RandomForestClassifier\n",
    "\n",
    "X, y = iris.data, iris.target\n",
    "\n",
    "model = RandomForestClassifier(random_state=0)\n",
    "model.fit(X, y)\n",
    "new_data = [[5.1, 3.5, 1.4, 0.2]] # 샘플의 개수 * 특성의 개수 배열을 입력해야한당\n",
    "prediction = model.predict(new_data)\n",
    "print(iris.target_names[0])"
   ],
   "outputs": [
    {
     "ename": "SyntaxError",
     "evalue": "invalid syntax (440654842.py, line 10)",
     "output_type": "error",
     "traceback": [
      "\u001B[1;36m  Cell \u001B[1;32mIn[33], line 10\u001B[1;36m\u001B[0m\n\u001B[1;33m    display(iris_df.head())from sklearn.ensemble import RandomForestClassifier\u001B[0m\n\u001B[1;37m                           ^\u001B[0m\n\u001B[1;31mSyntaxError\u001B[0m\u001B[1;31m:\u001B[0m invalid syntax\n"
     ]
    }
   ],
   "execution_count": 33
  },
  {
   "metadata": {
    "ExecuteTime": {
     "end_time": "2025-01-25T10:38:30.735206400Z",
     "start_time": "2025-01-25T10:23:51.738628Z"
    }
   },
   "cell_type": "code",
   "source": [
    "# 재현율과 정밀도\n",
    "# 재현율: 실제로 양성인 것 중 양성으로 판정한 비율 TP/(TP + FN) 실제 양성 케이스를 놓치지 않는 것이 중요할 때 핵심\n",
    "# 정밀도: 양성으로 판정한 것 중 실제 양성이었던 비율 TP/(TP + FP) 양성이라고 잘못 판단했을 때 손해가 클 때 핵심"
   ],
   "id": "b3d43bcc27cdf247",
   "outputs": [],
   "execution_count": 23
  },
  {
   "metadata": {
    "ExecuteTime": {
     "end_time": "2025-01-25T10:39:03.798895Z",
     "start_time": "2025-01-25T10:39:03.791463Z"
    }
   },
   "cell_type": "code",
   "source": [
    "# sklearn 활용한 모델 성능 평가\n",
    "import pandas as pd\n",
    "import copy\n",
    "import numpy as np\n",
    "\n",
    "# 랜덤 시드 설정\n",
    "np.random.seed(42)\n",
    "\n",
    "# 데이터 생성\n",
    "n_rows = 600\n",
    "data = {\n",
    "    \"ID\": [f\"TRAIN_{i:03d}\" for i in range(n_rows)],\n",
    "    \"Pregnancies\": np.random.randint(0, 15, size=n_rows),\n",
    "    \"Glucose\": np.random.randint(50, 200, size=n_rows),\n",
    "    \"BloodPressure\": np.random.randint(40, 100, size=n_rows),\n",
    "    \"SkinThickness\": np.random.randint(0, 50, size=n_rows),\n",
    "    \"Insulin\": np.random.randint(0, 300, size=n_rows),\n",
    "    \"BMI\": np.round(np.random.uniform(18.0, 50.0, size=n_rows), 1),\n",
    "    \"DiabetesPedigreeFunction\": np.round(np.random.uniform(0.1, 2.5, size=n_rows), 3),\n",
    "    \"Age\": np.random.randint(20, 80, size=n_rows),\n",
    "    \"Outcome\": np.random.randint(0, 2, size=n_rows)\n",
    "}\n",
    "\n",
    "# 데이터프레임 생성\n",
    "train_diabets = pd.DataFrame(data)\n",
    "print(df.iloc[46])"
   ],
   "id": "5bfe3f2d0d18f48",
   "outputs": [
    {
     "name": "stdout",
     "output_type": "stream",
     "text": [
      "ID                          TRAIN_046\n",
      "Pregnancies                        13\n",
      "Glucose                           144\n",
      "BloodPressure                      68\n",
      "SkinThickness                      33\n",
      "Insulin                           169\n",
      "BMI                              49.3\n",
      "DiabetesPedigreeFunction         1.91\n",
      "Age                                29\n",
      "Outcome                             1\n",
      "Name: 46, dtype: object\n"
     ]
    }
   ],
   "execution_count": 39
  },
  {
   "metadata": {
    "ExecuteTime": {
     "end_time": "2025-01-25T10:41:55.321739Z",
     "start_time": "2025-01-25T10:41:55.308876Z"
    }
   },
   "cell_type": "code",
   "source": [
    "from sklearn.model_selection import train_test_split\n",
    "\n",
    "train_x = train_diabets.drop(['ID', 'Outcome'], axis = 1)\n",
    "train_y = train_diabets['Outcome']\n",
    "X_train, X_test, y_train, y_test = train_test_split(train_x, train_y, test_size = 0.25, random_state = 0)\n",
    "\n",
    "from sklearn.tree import DecisionTreeClassifier\n",
    "\n",
    "clf_diabets = DecisionTreeClassifier(random_state = 0)\n",
    "clf_diabets.fit(X_train, y_train)\n",
    "y_pred = clf_diabets.predict(X_test)\n",
    "y_pred"
   ],
   "id": "d3cf96fad52bc0dc",
   "outputs": [
    {
     "data": {
      "text/plain": [
       "array([0, 0, 1, 0, 1, 0, 0, 0, 1, 0, 1, 1, 1, 1, 0, 1, 0, 1, 0, 1, 0, 1,\n",
       "       1, 0, 1, 0, 1, 1, 1, 0, 1, 1, 0, 1, 1, 1, 0, 1, 0, 0, 1, 1, 1, 0,\n",
       "       1, 1, 0, 0, 0, 1, 1, 1, 1, 1, 0, 1, 1, 1, 0, 1, 1, 0, 0, 0, 0, 1,\n",
       "       0, 0, 0, 1, 0, 1, 0, 1, 1, 0, 1, 1, 0, 1, 0, 0, 0, 0, 1, 0, 0, 0,\n",
       "       0, 0, 1, 0, 1, 1, 0, 1, 1, 1, 0, 1, 1, 1, 1, 1, 1, 1, 0, 0, 0, 0,\n",
       "       1, 0, 0, 0, 1, 0, 1, 0, 0, 0, 0, 0, 0, 0, 1, 1, 1, 1, 0, 0, 0, 1,\n",
       "       1, 1, 1, 0, 0, 0, 1, 0, 0, 0, 1, 1, 1, 0, 0, 1, 1, 1], dtype=int32)"
      ]
     },
     "execution_count": 40,
     "metadata": {},
     "output_type": "execute_result"
    }
   ],
   "execution_count": 40
  },
  {
   "metadata": {},
   "cell_type": "code",
   "outputs": [],
   "execution_count": null,
   "source": [
    "from sklearn.metrics import precision_score, recall_score, f1_score, confusion_matrix # 순서대로 정밀도, 재현율, f1(정밀도와 재현율의 조화평균), 혼동행렬\n",
    "accuracy_diabets =\n"
   ],
   "id": "99e1602bbadeb242"
  }
 ],
 "metadata": {
  "kernelspec": {
   "display_name": "Python 3",
   "language": "python",
   "name": "python3"
  },
  "language_info": {
   "codemirror_mode": {
    "name": "ipython",
    "version": 2
   },
   "file_extension": ".py",
   "mimetype": "text/x-python",
   "name": "python",
   "nbconvert_exporter": "python",
   "pygments_lexer": "ipython2",
   "version": "2.7.6"
  }
 },
 "nbformat": 4,
 "nbformat_minor": 5
}
