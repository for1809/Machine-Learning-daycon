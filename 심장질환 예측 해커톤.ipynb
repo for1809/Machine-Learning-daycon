{
 "cells": [
  {
   "metadata": {
    "ExecuteTime": {
     "end_time": "2025-02-10T08:31:15.979161Z",
     "start_time": "2025-02-10T08:31:15.910424Z"
    }
   },
   "cell_type": "code",
   "source": [
    "import pandas as pd\n",
    "\n",
    "train = pd.read_csv('train.csv')\n",
    "test = pd.read_csv('test.csv')\n",
    "submission = pd.read_csv('sample_submission.csv')\n",
    "\n",
    "from sklearn.preprocessing import StandardScaler\n",
    "numeric_features = ['age', 'trestbps', 'chol', 'thalach', 'oldpeak']\n",
    "train_x = train.drop(columns=['id', 'target'])\n",
    "train_y = train['target']\n",
    "test_x = test.drop(columns=['id'])\n",
    "scaler = StandardScaler()\n",
    "train_x[numeric_features] = scaler.fit_transform(train_x[numeric_features])\n",
    "test_x[numeric_features] = scaler.transform(test_x[numeric_features])\n",
    "test[numeric_features] = scaler.transform(test[numeric_features])\n",
    "\n",
    "import xgboost as xgb\n",
    "x_train, x_test, y_train, y_test = train_test_split(train_x, train_y, test_size = 0.15, random_state = 42)\n",
    "xgb = xgb.XGBClassifier(n_estimators = 100, max_depth = , learning_rate = 0.3)\n",
    "xgb.fit(x_train, y_train)\n",
    "y_pred = xgb.predict(x_test)\n",
    "submission['target'] = xgb.predict(test.drop(columns=['id']))\n",
    "submission.to_csv('submission.csv', index = False)\n",
    "f1_score(y_test, y_pred)"
   ],
   "id": "a6f7b6265a9f07",
   "outputs": [
    {
     "data": {
      "text/plain": [
       "0.9230769230769231"
      ]
     },
     "execution_count": 147,
     "metadata": {},
     "output_type": "execute_result"
    }
   ],
   "execution_count": 147
  }
 ],
 "metadata": {
  "kernelspec": {
   "display_name": "Python 3",
   "language": "python",
   "name": "python3"
  },
  "language_info": {
   "codemirror_mode": {
    "name": "ipython",
    "version": 2
   },
   "file_extension": ".py",
   "mimetype": "text/x-python",
   "name": "python",
   "nbconvert_exporter": "python",
   "pygments_lexer": "ipython2",
   "version": "2.7.6"
  }
 },
 "nbformat": 4,
 "nbformat_minor": 5
}
